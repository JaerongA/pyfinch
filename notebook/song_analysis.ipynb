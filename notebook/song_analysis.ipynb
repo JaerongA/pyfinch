{
 "cells": [
  {
   "attachments": {},
   "cell_type": "markdown",
   "id": "cdf8f036-0d1a-485a-8baa-a7d2e8e71de7",
   "metadata": {},
   "source": [
    "### Import packages & libraries"
   ]
  },
  {
   "cell_type": "code",
   "execution_count": 9,
   "id": "cfd838b5-3062-41b9-a59f-8b19e288027a",
   "metadata": {},
   "outputs": [],
   "source": [
    "from pyfinch.analysis.song import SongInfo, AudioInfo, BoutInfo\n",
    "import pyfinch.analysis.parameters\n",
    "from pathlib import Path\n",
    "from pyfinch.utils import save\n",
    "from pyfinch.utils.draw import remove_right_top\n",
    "import matplotlib.colors as colors\n",
    "import matplotlib.gridspec as gridspec\n",
    "import matplotlib.pyplot as plt"
   ]
  },
  {
   "attachments": {},
   "cell_type": "markdown",
   "id": "998ae8b7-1d08-4cbb-93d4-e37995a6d8ca",
   "metadata": {},
   "source": [
    "### Set directory path where the data is stored"
   ]
  },
  {
   "cell_type": "code",
   "execution_count": 3,
   "id": "7cfe15e0-ad9b-4265-9712-c8524609c6d4",
   "metadata": {},
   "outputs": [
    {
     "name": "stdout",
     "output_type": "stream",
     "text": [
      "\n",
      "Load song info practice\n",
      "Loading... g70r40_191106_153949_Undir\n",
      "Loading... g70r40_191106_154506_Undir\n",
      "Loading... g70r40_191106_154949_Undir\n",
      "Loading... g70r40_191106_155850_Dir\n",
      "Loading... g70r40_191106_155952_Dir\n",
      "Loading... g70r40_191106_161302_Undir\n",
      "Loading... g70r40_191106_161309_Undir\n",
      "Loading... g70r40_191106_161324_Undir\n",
      "Loading... g70r40_191106_161352_Undir\n",
      "Loading... g70r40_191106_161450_Undir\n",
      "Loading... g70r40_191106_161516_Undir\n",
      "Loading... g70r40_191106_162659_Dir\n",
      "Loading... g70r40_191106_163541_Undir\n",
      "Loading... g70r40_191106_163612_Undir\n",
      "Loading... g70r40_191106_163639_Undir\n",
      "Loading... g70r40_191106_163720_Undir\n",
      "Loading... g70r40_191106_164515_Dir\n",
      "Loading... g70r40_191106_165934_Undir\n",
      "Loading... g70r40_191106_170805_Undir\n",
      "Loading... g70r40_191106_171251_Dir\n"
     ]
    }
   ],
   "source": [
    "data_dir = Path(\"/home/data/practice\")\n",
    "si = SongInfo(path=data_dir, name='practice')  # song object"
   ]
  },
  {
   "attachments": {},
   "cell_type": "markdown",
   "id": "9aab6482-60fc-4b91-8f20-5a477ff75fcb",
   "metadata": {},
   "source": [
    "### Print out all the attributes & methods available in the SongInfo class"
   ]
  },
  {
   "cell_type": "code",
   "execution_count": 5,
   "id": "9173f3c8-fcb8-4c0f-8b2b-6c551b53b61b",
   "metadata": {},
   "outputs": [
    {
     "name": "stdout",
     "output_type": "stream",
     "text": [
      "['path', 'name', 'files', 'file_start', 'file_end', 'onsets', 'offsets', 'durations', 'syllables', 'contexts']\n"
     ]
    }
   ],
   "source": [
    "print(si)\n",
    "print(dir(si))"
   ]
  },
  {
   "cell_type": "code",
   "execution_count": 6,
   "id": "67b3c1b9-5cc9-4d03-91e8-7eb76309eb66",
   "metadata": {},
   "outputs": [
    {
     "data": {
      "text/plain": [
       "array(['2617.9333333333334', '2967.0', '3319.1666666666665',\n",
       "       '3466.366666666667', '3684.0333333333333', '3810.6666666666665',\n",
       "       '3918.366666666667', '4010.9666666666667', '4102.3', '4198.5',\n",
       "       '4303.566666666667', '4425.933333333333', '4520.2', '4614.7',\n",
       "       '4712.066666666667', '4817.9', '4945.6', '5040.733333333334',\n",
       "       '5135.133333333333', '5231.9', '5338.0', '5464.966666666666',\n",
       "       '5562.4', '5656.666666666667', '5759.833333333333', '*',\n",
       "       '6633.966666666666', '*', '9216.733333333334', '9392.833333333334',\n",
       "       '*', '12610.633333333333', '*'], dtype='<U32')"
      ]
     },
     "execution_count": 6,
     "metadata": {},
     "output_type": "execute_result"
    }
   ],
   "source": [
    "si.onsets[0]"
   ]
  },
  {
   "cell_type": "markdown",
   "id": "03463d48-c6ab-4fcf-b510-858c7a0eabb1",
   "metadata": {},
   "source": [
    "- '*' denotes song bout demarcation"
   ]
  },
  {
   "cell_type": "code",
   "execution_count": 5,
   "id": "42ddde71-7cc2-4a0b-b664-35670f77375d",
   "metadata": {},
   "outputs": [
    {
     "data": {
      "text/plain": [
       "'iiiiiiabcdeabcdeabcdeabcd*m*ml*m*'"
      ]
     },
     "execution_count": 5,
     "metadata": {},
     "output_type": "execute_result"
    }
   ],
   "source": [
    "si.syllables[0]"
   ]
  },
  {
   "cell_type": "code",
   "execution_count": 6,
   "id": "8eaec435-2a4d-4df4-ae2b-286b9fd2d82b",
   "metadata": {},
   "outputs": [
    {
     "data": {
      "text/plain": [
       "array(['52.5333333333333', '58.5333333333333', '61.5',\n",
       "       '58.59999999999991', '61.26666666666688', '64.4666666666667',\n",
       "       '71.79999999999973', '47.0333333333333', '38.5',\n",
       "       '65.60000000000036', '78.0666666666666', '73.36666666666679',\n",
       "       '48.100000000000364', '38.83333333333394', '68.0666666666666',\n",
       "       '79.90000000000055', '74.13333333333321', '50.83333333333303',\n",
       "       '38.433333333333394', '68.10000000000036', '82.10000000000036',\n",
       "       '74.90000000000055', '50.20000000000073', '39.066666666666606',\n",
       "       '67.4333333333334', '*', '121.90000000000055', '*',\n",
       "       '129.03333333333285', '42.19999999999891', '*',\n",
       "       '129.96666666666715', '*'], dtype='<U32')"
      ]
     },
     "execution_count": 6,
     "metadata": {},
     "output_type": "execute_result"
    }
   ],
   "source": [
    "si.durations[0]"
   ]
  },
  {
   "cell_type": "code",
   "execution_count": 8,
   "id": "d504c3c4-3e06-4365-b180-a2445f9f8533",
   "metadata": {},
   "outputs": [
    {
     "data": {
      "text/plain": [
       "{'U': 15, 'D': 5, 'All': 20}"
      ]
     },
     "execution_count": 8,
     "metadata": {},
     "output_type": "execute_result"
    }
   ],
   "source": [
    "nb_files = si.nb_files\n",
    "nb_files"
   ]
  },
  {
   "cell_type": "code",
   "execution_count": 9,
   "id": "220415da-f0f9-497c-8345-f50a34c77e3b",
   "metadata": {},
   "outputs": [
    {
     "data": {
      "text/plain": [
       "{'U': 13, 'D': 5, 'All': 18}"
      ]
     },
     "execution_count": 9,
     "metadata": {},
     "output_type": "execute_result"
    }
   ],
   "source": [
    "nb_bouts = si.nb_bouts('abcde')\n",
    "nb_bouts"
   ]
  },
  {
   "cell_type": "code",
   "execution_count": 13,
   "id": "9d66d66f-7739-4660-8446-67016b28300e",
   "metadata": {},
   "outputs": [
    {
     "data": {
      "text/plain": [
       "{'U': 34, 'D': 32, 'All': 66}"
      ]
     },
     "execution_count": 13,
     "metadata": {},
     "output_type": "execute_result"
    }
   ],
   "source": [
    "nb_motifs = si.nb_motifs('abcde')\n",
    "nb_motifs"
   ]
  },
  {
   "cell_type": "code",
   "execution_count": 15,
   "id": "c36ac46f-76ff-4914-bd16-6e496766cc67",
   "metadata": {},
   "outputs": [
    {
     "data": {
      "text/plain": [
       "{'U': 4.538, 'D': 5.4}"
      ]
     },
     "execution_count": 15,
     "metadata": {},
     "output_type": "execute_result"
    }
   ],
   "source": [
    "mean_nb_intro_notes = si.mean_nb_intro('i', 'abcde')\n",
    "mean_nb_intro_notes"
   ]
  },
  {
   "cell_type": "code",
   "execution_count": 16,
   "id": "286927e5-b151-4a33-a4dd-8b727f274f0b",
   "metadata": {},
   "outputs": [
    {
     "data": {
      "text/plain": [
       "{'U': 0.0257, 'D': 0.0218}"
      ]
     },
     "execution_count": 16,
     "metadata": {},
     "output_type": "execute_result"
    }
   ],
   "source": [
    "song_call_prop = si.song_call_prop('lmn', 'abcde')\n",
    "song_call_prop"
   ]
  },
  {
   "cell_type": "code",
   "execution_count": 18,
   "id": "13c4e724-72fb-4f06-8e2c-b7abedc0db5f",
   "metadata": {},
   "outputs": [],
   "source": [
    "si.open_folder"
   ]
  },
  {
   "cell_type": "code",
   "execution_count": 59,
   "id": "7b661b40-1dba-45a6-b9a4-64dc9a91dc50",
   "metadata": {},
   "outputs": [],
   "source": [
    "mi = si.get_motif_info(motif='abc')"
   ]
  },
  {
   "cell_type": "code",
   "execution_count": 60,
   "id": "2b9ae1ad-18b1-4bf5-9966-aeb4383799b6",
   "metadata": {},
   "outputs": [
    {
     "data": {
      "text/plain": [
       "['files', 'onsets', 'offsets', 'durations', 'contexts', 'motif']"
      ]
     },
     "execution_count": 60,
     "metadata": {},
     "output_type": "execute_result"
    }
   ],
   "source": [
    "mi"
   ]
  },
  {
   "cell_type": "code",
   "execution_count": 61,
   "id": "0ad427c7-b654-46cd-8d7a-e3d24aa768ac",
   "metadata": {
    "pycharm": {
     "name": "#%%\n"
    }
   },
   "outputs": [
    {
     "data": {
      "text/plain": [
       "72"
      ]
     },
     "execution_count": 61,
     "metadata": {},
     "output_type": "execute_result"
    }
   ],
   "source": [
    "len(mi)"
   ]
  },
  {
   "cell_type": "code",
   "execution_count": 64,
   "id": "ff48e857-241a-4bf4-8347-cb1692a0c51d",
   "metadata": {},
   "outputs": [],
   "source": [
    "mi = si.get_motif_info(motif='abcde')\n",
    "motif_dur = mi.get_motif_duration()"
   ]
  },
  {
   "cell_type": "code",
   "execution_count": 77,
   "id": "f2a387e1-eb92-4044-afb3-28dcbbc49d5c",
   "metadata": {},
   "outputs": [
    {
     "data": {
      "text/plain": [
       "{'mean': {'U': 477.456, 'D': 474.405}, 'cv': {'U': 0.016, 'D': 0.022}}"
      ]
     },
     "execution_count": 77,
     "metadata": {},
     "output_type": "execute_result"
    }
   ],
   "source": [
    "motif_dur  # motif duration in seconds"
   ]
  },
  {
   "attachments": {},
   "cell_type": "markdown",
   "metadata": {
    "collapsed": false
   },
   "source": [
    "### Entropy calculation"
   ]
  },
  {
   "cell_type": "code",
   "execution_count": null,
   "metadata": {
    "collapsed": false,
    "pycharm": {
     "name": "#%%\n"
    }
   },
   "outputs": [],
   "source": [
    "cmap = 'hot_r'\n",
    "entropy_color = 'k'\n",
    "# mode = 'spectral'\n",
    "mode = 'spectro_temporal'\n",
    "file = si.files[0]\n",
    "ai = AudioInfo(si.list_files()[0])\n",
    "ai.load_notmat()\n",
    "\n",
    "note_id=10\n",
    "buffer = 50\n",
    "print(ai.syllables[note_id])\n",
    "timestamp, data = ai.extract([ai.onsets[note_id]-buffer, ai.offsets[note_id]+buffer])  # Extract data within the range\n",
    "spect_time, spect, spect_freq = ai.spectrogram(timestamp, data)\n",
    "spectral_entropy = ai.get_spectral_entropy(spect, mode=mode)\n",
    "\n",
    "# Parameters\n",
    "txt_offset = 0.2\n",
    "font_size = 6\n",
    "\n",
    "# Plot figure\n",
    "fig = plt.figure(figsize=(4, 2), dpi=250)\n",
    "# fig_name = f\"{note_ind1 :03} - {file.name}, note#{note_ind2} - {note}\"\n",
    "#\n",
    "# plt.suptitle(fig_name, y=.90, fontsize=font_size)\n",
    "gs = gridspec.GridSpec(4, 6)\n",
    "\n",
    "# Plot spectrogram\n",
    "ax_spect = plt.subplot(gs[1:3, 0:3])\n",
    "spect_time = spect_time - spect_time[0]  # starts from zero\n",
    "ax_spect.pcolormesh(spect_time, spect_freq, spect,  # data\n",
    "                    cmap=cmap,\n",
    "                    shading='auto',\n",
    "                    norm=colors.SymLogNorm(linthresh=0.05,\n",
    "                                           linscale=0.03,\n",
    "                                           vmin=0.5,\n",
    "                                           vmax=100,\n",
    "                                           ))\n",
    "\n",
    "remove_right_top(ax_spect)\n",
    "# ax_spect.set_xlim(-note_buffer, duration + note_buffer)\n",
    "# ax_spect.set_ylim(freq_range[0], freq_range[1])\n",
    "# ax_spect.set_xlabel('Time (ms)', fontsize=font_size)\n",
    "# ax_spect.set_ylabel('Frequency (Hz)', fontsize=font_size)\n",
    "# plt.yticks(freq_range, list(map(str, freq_range)), fontsize=5)\n",
    "plt.xticks(fontsize=5), plt.yticks(fontsize=5)\n"
   ]
  },
  {
   "cell_type": "code",
   "execution_count": null,
   "metadata": {
    "collapsed": false,
    "pycharm": {
     "name": "#%%\n"
    }
   },
   "outputs": [],
   "source": [
    "spectral_entropy['array']\n",
    "cmap = 'hot_r'\n",
    "entropy_color = 'k'\n",
    "# mode = 'spectral'\n",
    "mode = 'spectro_temporal'\n",
    "file = si.files[0]\n",
    "ai = AudioInfo(si.list_files()[0])\n",
    "ai.load_notmat()\n",
    "\n",
    "note_id=10\n",
    "buffer = 50\n",
    "print(ai.syllables[note_id])\n",
    "timestamp, data = ai.extract([ai.onsets[note_id]-buffer, ai.offsets[note_id]+buffer])  # Extract data within the range\n",
    "spect_time, spect, spect_freq = ai.spectrogram(timestamp, data)\n",
    "spectral_entropy = ai.get_spectral_entropy(spect, mode=mode)\n",
    "\n",
    "# Parameters\n",
    "txt_offset = 0.2\n",
    "font_size = 6\n",
    "\n",
    "# Plot figure\n",
    "fig = plt.figure(figsize=(4, 2), dpi=250)\n",
    "# fig_name = f\"{note_ind1 :03} - {file.name}, note#{note_ind2} - {note}\"\n",
    "#\n",
    "# plt.suptitle(fig_name, y=.90, fontsize=font_size)\n",
    "gs = gridspec.GridSpec(4, 6)\n",
    "\n",
    "# Plot spectrogram\n",
    "ax_spect = plt.subplot(gs[1:3, 0:3])\n",
    "spect_time = spect_time - spect_time[0]  # starts from zero\n",
    "ax_spect.pcolormesh(spect_time, spect_freq, spect,  # data\n",
    "                    cmap=cmap,\n",
    "                    shading='auto',\n",
    "                    norm=colors.SymLogNorm(linthresh=0.05,\n",
    "                                           linscale=0.03,\n",
    "                                           vmin=0.5,\n",
    "                                           vmax=100,\n",
    "                                           ))\n",
    "\n",
    "remove_right_top(ax_spect)\n",
    "# ax_spect.set_xlim(-note_buffer, duration + note_buffer)\n",
    "# ax_spect.set_ylim(freq_range[0], freq_range[1])\n",
    "# ax_spect.set_xlabel('Time (ms)', fontsize=font_size)\n",
    "# ax_spect.set_ylabel('Frequency (Hz)', fontsize=font_size)\n",
    "# plt.yticks(freq_range, list(map(str, freq_range)), fontsize=5)\n",
    "plt.xticks(fontsize=5), plt.yticks(fontsize=5)"
   ]
  },
  {
   "cell_type": "code",
   "execution_count": 90,
   "id": "44150679-df94-4f5d-956b-26fcc5feef77",
   "metadata": {},
   "outputs": [
    {
     "data": {
      "text/plain": [
       "{'array': array([0.41979174, 0.55914629, 0.57551355, 0.59641453, 0.64442551,\n",
       "        0.67354197, 0.73541755, 0.79307963, 0.8024882 , 0.79278859,\n",
       "        0.81395194, 0.85880834, 0.89089844, 0.89590001, 0.8713222 ,\n",
       "        0.83855835, 0.77684823, 0.75819528, 0.72196586, 0.71895238,\n",
       "        0.73808383, 0.75700887, 0.75648276, 0.70422291, 0.63615372,\n",
       "        0.60536117, 0.60511637, 0.58130042, 0.5412647 , 0.52378121,\n",
       "        0.50647705, 0.48550272, 0.47189939, 0.47337116, 0.48118685,\n",
       "        0.4862472 , 0.48356846, 0.47548294, 0.47016816, 0.46765131,\n",
       "        0.46671578, 0.47257005, 0.48073817, 0.48925875, 0.49830967,\n",
       "        0.50365601, 0.5052694 , 0.5060171 , 0.50621265, 0.50711352,\n",
       "        0.510231  , 0.52465083, 0.56094576, 0.60665655, 0.62691907,\n",
       "        0.61316114, 0.61149326, 0.63067204, 0.66692791, 0.71844433,\n",
       "        0.75509576, 0.76811949, 0.80275396, 0.83417657, 0.82919429,\n",
       "        0.82689026, 0.84065734, 0.86840758, 0.88386727, 0.88770823,\n",
       "        0.89210981, 0.88854612, 0.86818356, 0.81839307, 0.71095742,\n",
       "        0.50763884]),\n",
       " 'mean': 0.6575921363408299,\n",
       " 'var': 0.021910899247413063}"
      ]
     },
     "execution_count": 90,
     "metadata": {},
     "output_type": "execute_result"
    }
   ],
   "source": [
    "spectral_entropy"
   ]
  },
  {
   "cell_type": "code",
   "execution_count": 91,
   "id": "af3b3539-2513-452b-907e-e0b17b13c770",
   "metadata": {},
   "outputs": [
    {
     "data": {
      "text/plain": [
       "array([0.41979174, 0.55914629, 0.57551355, 0.59641453, 0.64442551,\n",
       "       0.67354197, 0.73541755, 0.79307963, 0.8024882 , 0.79278859,\n",
       "       0.81395194, 0.85880834, 0.89089844, 0.89590001, 0.8713222 ,\n",
       "       0.83855835, 0.77684823, 0.75819528, 0.72196586, 0.71895238,\n",
       "       0.73808383, 0.75700887, 0.75648276, 0.70422291, 0.63615372,\n",
       "       0.60536117, 0.60511637, 0.58130042, 0.5412647 , 0.52378121,\n",
       "       0.50647705, 0.48550272, 0.47189939, 0.47337116, 0.48118685,\n",
       "       0.4862472 , 0.48356846, 0.47548294, 0.47016816, 0.46765131,\n",
       "       0.46671578, 0.47257005, 0.48073817, 0.48925875, 0.49830967,\n",
       "       0.50365601, 0.5052694 , 0.5060171 , 0.50621265, 0.50711352,\n",
       "       0.510231  , 0.52465083, 0.56094576, 0.60665655, 0.62691907,\n",
       "       0.61316114, 0.61149326, 0.63067204, 0.66692791, 0.71844433,\n",
       "       0.75509576, 0.76811949, 0.80275396, 0.83417657, 0.82919429,\n",
       "       0.82689026, 0.84065734, 0.86840758, 0.88386727, 0.88770823,\n",
       "       0.89210981, 0.88854612, 0.86818356, 0.81839307, 0.71095742,\n",
       "       0.50763884])"
      ]
     },
     "execution_count": 91,
     "metadata": {},
     "output_type": "execute_result"
    }
   ],
   "source": [
    "spectral_entropy['array']"
   ]
  }
 ],
 "metadata": {
  "kernelspec": {
   "display_name": "Python 3 (ipykernel)",
   "language": "python",
   "name": "python3"
  },
  "language_info": {
   "codemirror_mode": {
    "name": "ipython",
    "version": 3
   },
   "file_extension": ".py",
   "mimetype": "text/x-python",
   "name": "python",
   "nbconvert_exporter": "python",
   "pygments_lexer": "ipython3",
   "version": "3.8.13"
  }
 },
 "nbformat": 4,
 "nbformat_minor": 5
}
